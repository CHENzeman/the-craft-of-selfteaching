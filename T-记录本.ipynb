{
 "cells": [
  {
   "cell_type": "markdown",
   "metadata": {},
   "source": [
    "# class：\n",
    "`__init__`可以set variables & methods。variables不一定要固定下来，可以通过setter and getter定义不同objects的初始variables。\n",
    "如，def set_job(self,job);def get_job(self)\n",
    "\n",
    "在不同methods中定义的variable，只要不是private variable，就可以引用。\n",
    "如，self.job = 'None',self.job = job"
   ]
  },
  {
   "cell_type": "code",
   "execution_count": null,
   "metadata": {},
   "outputs": [],
   "source": []
  }
 ],
 "metadata": {
  "kernelspec": {
   "display_name": "Python 3",
   "language": "python",
   "name": "python3"
  },
  "language_info": {
   "codemirror_mode": {
    "name": "ipython",
    "version": 3
   },
   "file_extension": ".py",
   "mimetype": "text/x-python",
   "name": "python",
   "nbconvert_exporter": "python",
   "pygments_lexer": "ipython3",
   "version": "3.7.3"
  }
 },
 "nbformat": 4,
 "nbformat_minor": 2
}

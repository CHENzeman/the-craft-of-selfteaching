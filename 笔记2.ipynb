{
 "cells": [
  {
   "cell_type": "markdown",
   "metadata": {},
   "source": [
    "# sort() 与lambda的注意点\n",
    "\n",
    "sort(*, key=None, reverse=False)\n",
    "key指的是排序的对象是什么，如key=str.lower，以小写的全部strings为排序对象，但不改变原本的对象\n",
    "如, list = [(1, 'one'), (2, 'two'), (3, 'three')],\n",
    "list.sort(key=lambda l:l[1])\n",
    "\n",
    "摘自Python built-in types:\n",
    "The key *corresponding to each item in the list is calculated once* and then used for the entire sorting process.  \n",
    "\n",
    "key的作用是对排序对象做出一些要求，对list的每个元素都会操作一遍，那么key=lambda p:p[1]的参数就是list的每个元素，p[1]指的就是每个元素索引为1的那个值，以它们为排序对象。"
   ]
  },
  {
   "cell_type": "code",
   "execution_count": 2,
   "metadata": {},
   "outputs": [
    {
     "data": {
      "text/plain": [
       "[(4, 'four'), (1, 'one'), (3, 'three'), (2, 'two')]"
      ]
     },
     "execution_count": 2,
     "metadata": {},
     "output_type": "execute_result"
    }
   ],
   "source": [
    "pairs = [(1, 'one'), (2, 'two'), (3, 'three'), (4, 'four')]\n",
    "pairs.sort(key=lambda pair:pair[1])   \n",
    "pairs"
   ]
  },
  {
   "cell_type": "code",
   "execution_count": 1,
   "metadata": {},
   "outputs": [
    {
     "data": {
      "text/plain": [
       "['string', 'trying', 'encouragement']"
      ]
     },
     "execution_count": 1,
     "metadata": {},
     "output_type": "execute_result"
    }
   ],
   "source": [
    "pairs = [(2, 'two'), (3, 'three'), (4, 'four')]\n",
    "pairs.clear()\n",
    "pairs = ['encouragement', 'string', 'trying']\n",
    "pairs.sort(key=lambda a:a[5])# 以字符的第5个索引为排序对象，顺序排序，若索引超出字符串的最大索引，\n",
    "pairs                               # 就会报错。"
   ]
  },
  {
   "cell_type": "markdown",
   "metadata": {},
   "source": [
    "lambda里的“ : ” 只要前后的变量是一致的，那么不论是什么都可以的，x:x, a:a, p:p,都是一样的。只要lambda这个函数有参数传递进来，就可以进行运算。"
   ]
  },
  {
   "cell_type": "code",
   "execution_count": 3,
   "metadata": {},
   "outputs": [
    {
     "data": {
      "text/plain": [
       "2"
      ]
     },
     "execution_count": 3,
     "metadata": {},
     "output_type": "execute_result"
    }
   ],
   "source": [
    "import random\n",
    "r = random.randrange(0,10)\n",
    "r"
   ]
  },
  {
   "cell_type": "code",
   "execution_count": 3,
   "metadata": {},
   "outputs": [
    {
     "name": "stdout",
     "output_type": "stream",
     "text": [
      "{'A': 'N', 'B': 'O', 'C': 'P', 'D': 'Q', 'E': 'R', 'F': 'S', 'G': 'T', 'H': 'U', 'I': 'V', 'J': 'W', 'K': 'X', 'L': 'Y', 'M': 'Z', 'N': 'A', 'O': 'B', 'P': 'C', 'Q': 'D', 'R': 'E', 'S': 'F', 'T': 'G', 'U': 'H', 'V': 'I', 'W': 'J', 'X': 'K', 'Y': 'L', 'Z': 'M'}\n",
      "{'A': 'N', 'B': 'O', 'C': 'P', 'D': 'Q', 'E': 'R', 'F': 'S', 'G': 'T', 'H': 'U', 'I': 'V', 'J': 'W', 'K': 'X', 'L': 'Y', 'M': 'Z', 'N': 'A', 'O': 'B', 'P': 'C', 'Q': 'D', 'R': 'E', 'S': 'F', 'T': 'G', 'U': 'H', 'V': 'I', 'W': 'J', 'X': 'K', 'Y': 'L', 'Z': 'M', 'a': 'n', 'b': 'o', 'c': 'p', 'd': 'q', 'e': 'r', 'f': 's', 'g': 't', 'h': 'u', 'i': 'v', 'j': 'w', 'k': 'x', 'l': 'y', 'm': 'z', 'n': 'a', 'o': 'b', 'p': 'c', 'q': 'd', 'r': 'e', 's': 'f', 't': 'g', 'u': 'h', 'v': 'i', 'w': 'j', 'x': 'k', 'y': 'l', 'z': 'm'}\n"
     ]
    }
   ],
   "source": [
    "d = {}\n",
    "for c in (65, 97):\n",
    "    for i in range(26):\n",
    "         d[chr(i+c)] = chr((i+13) % 26 + c)\n",
    "    print(d)"
   ]
  },
  {
   "cell_type": "code",
   "execution_count": 9,
   "metadata": {},
   "outputs": [
    {
     "name": "stdout",
     "output_type": "stream",
     "text": [
      "[1]\n",
      "[2]\n",
      "[3]\n",
      "[5]\n",
      "[6]\n",
      "[7]\n"
     ]
    }
   ],
   "source": [
    "for c in (1,5):\n",
    "    for i in range(3):\n",
    "        d = [c + i]\n",
    "        print(d)"
   ]
  },
  {
   "cell_type": "code",
   "execution_count": 7,
   "metadata": {},
   "outputs": [
    {
     "data": {
      "text/plain": [
       "[1, 2, 3, 0, 1, 2]"
      ]
     },
     "execution_count": 7,
     "metadata": {},
     "output_type": "execute_result"
    }
   ],
   "source": [
    "a = list(range(1,4))\n",
    "b = list(range(3))\n",
    "c = a+b\n",
    "c"
   ]
  },
  {
   "cell_type": "code",
   "execution_count": 8,
   "metadata": {},
   "outputs": [
    {
     "data": {
      "text/plain": [
       "tuple"
      ]
     },
     "execution_count": 8,
     "metadata": {},
     "output_type": "execute_result"
    }
   ],
   "source": [
    "type((1,4))"
   ]
  },
  {
   "cell_type": "code",
   "execution_count": 18,
   "metadata": {},
   "outputs": [
    {
     "data": {
      "text/plain": [
       "78"
      ]
     },
     "execution_count": 18,
     "metadata": {},
     "output_type": "execute_result"
    }
   ],
   "source": [
    "ord('N')"
   ]
  },
  {
   "cell_type": "code",
   "execution_count": 13,
   "metadata": {},
   "outputs": [
    {
     "data": {
      "text/plain": [
       "'\\\\'"
      ]
     },
     "execution_count": 13,
     "metadata": {},
     "output_type": "execute_result"
    }
   ],
   "source": [
    "chr(92)"
   ]
  },
  {
   "cell_type": "code",
   "execution_count": 4,
   "metadata": {},
   "outputs": [
    {
     "data": {
      "text/plain": [
       "True"
      ]
     },
     "execution_count": 4,
     "metadata": {},
     "output_type": "execute_result"
    },
    {
     "data": {
      "text/plain": [
       "True"
      ]
     },
     "execution_count": 4,
     "metadata": {},
     "output_type": "execute_result"
    },
    {
     "data": {
      "text/plain": [
       "True"
      ]
     },
     "execution_count": 4,
     "metadata": {},
     "output_type": "execute_result"
    },
    {
     "data": {
      "text/plain": [
       "False"
      ]
     },
     "execution_count": 4,
     "metadata": {},
     "output_type": "execute_result"
    }
   ],
   "source": [
    "from IPython.core.interactiveshell import InteractiveShell\n",
    "InteractiveShell.ast_node_interactivity = 'all'\n",
    "\n",
    "def is_leap(year):\n",
    "    r = False\n",
    "    if year % 4 == 0:\n",
    "        r = True\n",
    "        if year % 100 == 0:\n",
    "            if year % 400 != 0:\n",
    "                r = False\n",
    "    return r\n",
    "                \n",
    "is_leap(2016) is True\n",
    "is_leap(200) is False\n",
    "is_leap(400) is True\n",
    "is_leap(9)"
   ]
  },
  {
   "cell_type": "markdown",
   "metadata": {},
   "source": [
    "知识就是知识，它没有任何义务去具备幽默生动的属性；手艺就是手艺，它没有任何义务去具备有趣欢乐的属性。\n",
    "\n",
    "幽默与生动，是要自己去扮演的角色；有趣与欢乐，是要自己去挖掘的幸福——它们从来并不自动包含在知识和手艺之中。只有当它们被“有心人”掌握、被“有心人”应用、甚至被“有心人”拿去创造的时候，也只有“有心人”才能体会到那幽默与生动、那有趣与欢乐。\n",
    "\n",
    "所以，有自学能力的人，不怕枯燥——因为那本来就理应是枯燥的。这就好像人生本无意义，有意义的人生都是自己活出来的一样，有意义的知识都是自己用出来的——对不用它的人、用不上它的人来说，只能也只剩下无法容忍的枯燥。\n",
    "\n",
    "能够耐心读完那么多在别人看来“极度枯燥”的资料，是自学者的擅长。可那在别人看来“无与伦比”的耐心，究竟是哪儿来的呢？如何造就的呢？没断奶的人想象不出来。其实也很简单，首先，平静地接受了它枯燥的本质；其次，就是经过多次实践已然明白，无论多枯燥，总能读完；无论多难，多读几遍总能读懂……于是，到最后，*只不过是习惯了而已。*前提是不混时间，认认真真地学习和用、练。\n"
   ]
  },
  {
   "cell_type": "code",
   "execution_count": 2,
   "metadata": {},
   "outputs": [
    {
     "name": "stdout",
     "output_type": "stream",
     "text": [
      "calling double\n",
      "310\n"
     ]
    }
   ],
   "source": [
    "def simple_decorator(decorator):\n",
    "    '''This decorator can be used to turn simple functions\n",
    "    into well-behaved decorators, so long as the decorators\n",
    "    are fairly simple. If a decorator expects a function and\n",
    "    returns a function (no descriptors), and if it doesn't\n",
    "    modify function attributes or docstring, then it is\n",
    "    eligible to use this. Simply apply @simple_decorator to\n",
    "    your decorator and it will automatically preserve the\n",
    "    docstring and function attributes of functions to which\n",
    "    it is applied.'''\n",
    "    def new_decorator(f):\n",
    "        g = decorator(f)\n",
    "        g.__name__ = f.__name__\n",
    "        g.__doc__ = f.__doc__\n",
    "        g.__dict__.update(f.__dict__)\n",
    "        return g\n",
    "    # Now a few lines needed to make simple_decorator itself\n",
    "    # be a well-behaved decorator.\n",
    "    new_decorator.__name__ = decorator.__name__\n",
    "    new_decorator.__doc__ = decorator.__doc__\n",
    "    new_decorator.__dict__.update(decorator.__dict__)\n",
    "    return new_decorator\n",
    "\n",
    "#\n",
    "# Sample Use:\n",
    "#\n",
    "@simple_decorator\n",
    "def my_simple_logging_decorator(func):\n",
    "    def you_will_never_see_this_name(*args, **kwargs):\n",
    "        print('calling {}'.format(func.__name__))\n",
    "        return func(*args, **kwargs)\n",
    "    return you_will_never_see_this_name\n",
    "\n",
    "@my_simple_logging_decorator\n",
    "def double(x):\n",
    "    'Doubles a number.'\n",
    "    return 2 * x\n",
    "\n",
    "assert double.__name__ == 'double'\n",
    "assert double.__doc__ == 'Doubles a number.'\n",
    "print(double(155))"
   ]
  },
  {
   "cell_type": "markdown",
   "metadata": {},
   "source": [
    "---\n",
    "如何不被“刚需幻觉”所迷惑、所限制呢？\n",
    "\n",
    "首先，基础策略是，要深刻理解这个现象及其解释：\n",
    "\n",
    "> 对任何一项技能来说，刚需是自学的结果；而不是自学的原因；\n",
    "\n",
    "用“是否为刚需”作为自己是否开始学习的理由，注定会吃亏的，因为如此做的下场就是肯定被“刚需幻觉”所迷惑，所限制。\n",
    "\n",
    "而后，也是更为重要的一个策略：\n",
    "\n",
    "> 做个自驱动的人，而非被外部驱动的被动的人。\n",
    "\n",
    "这基本是个越早建立越好的习惯。绝大数人一生都是被动者，终生只是被外界驱动而已。所以，他们会在某一时刻，“发现”某个技能是刚需，然后再去学，但是，可惜却肯定的是，到那时候预算总是并不充裕，总是捉襟见肘。\n",
    "\n",
    "最后一个很简单却很有效的策略是三个字，之前提到过的：\n",
    "\n",
    "> 找活干\n",
    "\n",
    "有活干，真的很幸福。"
   ]
  },
  {
   "cell_type": "code",
   "execution_count": 20,
   "metadata": {},
   "outputs": [
    {
     "data": {
      "text/plain": [
       "5"
      ]
     },
     "execution_count": 20,
     "metadata": {},
     "output_type": "execute_result"
    }
   ],
   "source": [
    "import random\n",
    "s = random.randrange(0,10)\n",
    "s"
   ]
  },
  {
   "cell_type": "code",
   "execution_count": 78,
   "metadata": {},
   "outputs": [
    {
     "name": "stdout",
     "output_type": "stream",
     "text": [
      "1 * 1 = 1\n",
      "1 * 2 = 2\n",
      "1 * 3 = 3\n",
      "1 * 4 = 4\n",
      "1 * 5 = 5\n",
      "1 * 6 = 6\n",
      "1 * 7 = 7\n",
      "1 * 8 = 8\n",
      "1 * 9 = 9\n",
      "2 * 2 = 4\n",
      "2 * 3 = 6\n",
      "2 * 4 = 8\n",
      "2 * 5 = 10\n",
      "2 * 6 = 12\n",
      "2 * 7 = 14\n",
      "2 * 8 = 16\n",
      "2 * 9 = 18\n",
      "3 * 3 = 9\n",
      "3 * 4 = 12\n",
      "3 * 5 = 15\n",
      "3 * 6 = 18\n",
      "3 * 7 = 21\n",
      "3 * 8 = 24\n",
      "3 * 9 = 27\n",
      "4 * 4 = 16\n",
      "4 * 5 = 20\n",
      "4 * 6 = 24\n",
      "4 * 7 = 28\n",
      "4 * 8 = 32\n",
      "4 * 9 = 36\n",
      "5 * 5 = 25\n",
      "5 * 6 = 30\n",
      "5 * 7 = 35\n",
      "5 * 8 = 40\n",
      "5 * 9 = 45\n",
      "6 * 6 = 36\n",
      "6 * 7 = 42\n",
      "6 * 8 = 48\n",
      "6 * 9 = 54\n",
      "7 * 7 = 49\n",
      "7 * 8 = 56\n",
      "7 * 9 = 63\n",
      "8 * 8 = 64\n",
      "8 * 9 = 72\n",
      "9 * 9 = 81\n"
     ]
    }
   ],
   "source": [
    "for n in range(1,10):\n",
    "    for i in range(1,10):\n",
    "        if n <= i:\n",
    "            multiplication = n * i\n",
    "            s = f\"{n} * {i} = {multiplication}\"\n",
    "            print(s)\n",
    "\n",
    "#a_list = []\n",
    "#a_list.append(s)\n",
    "#print(a_list)     "
   ]
  },
  {
   "cell_type": "code",
   "execution_count": 73,
   "metadata": {},
   "outputs": [
    {
     "name": "stdout",
     "output_type": "stream",
     "text": [
      "['jkjk']\n"
     ]
    }
   ],
   "source": [
    "s = f'jkjk'\n",
    "a_list = []\n",
    "a_list.append(s)\n",
    "print(a_list)"
   ]
  },
  {
   "cell_type": "code",
   "execution_count": 91,
   "metadata": {},
   "outputs": [
    {
     "name": "stdout",
     "output_type": "stream",
     "text": [
      "38\n",
      "1\n",
      "8\n",
      "1\n",
      "4\n"
     ]
    }
   ],
   "source": [
    "list2 = [1,3,4,6,4,7,8,2,3]\n",
    "\n",
    "print(sum(list2))\n",
    "print(min(list2))\n",
    "print(max(list2))\n",
    "print(list2[0])\n",
    "print(list2[-7])  #负数的索引是从后往前，从-1开始；而从0开始的是从前往后。"
   ]
  },
  {
   "cell_type": "code",
   "execution_count": 97,
   "metadata": {},
   "outputs": [
    {
     "name": "stdout",
     "output_type": "stream",
     "text": [
      "[3, 4, 5, 6]\n",
      "[3, 4, 5, 6, 7]\n",
      "[3, 4, 5, 6]\n",
      "[3, 4, 5]\n"
     ]
    }
   ],
   "source": [
    "x = [3,4,5]\n",
    "x.append(6)\n",
    "print(x)\n",
    "x.append(7)\n",
    "print(x)\n",
    "x.pop()   #从后往前删，返回被删的值\n",
    "print(x)\n",
    "x.pop()\n",
    "print(x)"
   ]
  },
  {
   "cell_type": "code",
   "execution_count": 98,
   "metadata": {},
   "outputs": [
    {
     "name": "stdout",
     "output_type": "stream",
     "text": [
      "15\n"
     ]
    }
   ],
   "source": [
    "def sum(list):\n",
    "    sum = 0\n",
    "    for e in list:\n",
    "        sum = sum + e\n",
    "    return sum\n",
    "\n",
    "mylist = [1,2,3,4,5]\n",
    "print(sum(mylist))"
   ]
  },
  {
   "cell_type": "code",
   "execution_count": 100,
   "metadata": {},
   "outputs": [
    {
     "name": "stdout",
     "output_type": "stream",
     "text": [
      "15150\n"
     ]
    }
   ],
   "source": [
    "def sum(n):\n",
    "    sum = 0\n",
    "    for i in n:\n",
    "        sum = sum + i\n",
    "    return sum\n",
    "\n",
    "n = range(100,201)\n",
    "print(sum(range(100,201)))"
   ]
  },
  {
   "cell_type": "code",
   "execution_count": 109,
   "metadata": {},
   "outputs": [
    {
     "name": "stdout",
     "output_type": "stream",
     "text": [
      "[98, 23, 21, 6, 6, 5, 4, 3, 1, 1]\n"
     ]
    },
    {
     "data": {
      "text/plain": [
       "[98, 23, 21, 6, 6, 5, 4, 3, 1, 1]"
      ]
     },
     "execution_count": 109,
     "metadata": {},
     "output_type": "execute_result"
    }
   ],
   "source": [
    "x = [3,6,21,1,5,98,4,23,1,6]\n",
    "x.sort()\n",
    "x = list(reversed(x))  #reversed(x)的返回值是一个iterable,不是list\n",
    "print(x)\n",
    "\n",
    "# more elegant way:\n",
    "words = [3,6,21,1,5,98,4,23,1,6] \n",
    "words.sort()\n",
    "words = words[::-1]  #'::'表示索引，start to end, -1表示以降序排序，即倒序\n",
    "words"
   ]
  },
  {
   "cell_type": "code",
   "execution_count": 115,
   "metadata": {},
   "outputs": [
    {
     "name": "stdout",
     "output_type": "stream",
     "text": [
      "[(3, 6), (3, 1), (4, 7), (5, 9), (8, 4)]\n"
     ]
    }
   ],
   "source": [
    "x = [(3,6), (4,7), (5,9), (8,4), (3,1)]\n",
    "x.sort(key=lambda pair:pair[0]) #不可以用 x = x.sort(key=lambda pair:pair[0]), 在这里x为none\n",
    "print(x)"
   ]
  },
  {
   "cell_type": "code",
   "execution_count": 110,
   "metadata": {},
   "outputs": [
    {
     "data": {
      "text/plain": [
       "True"
      ]
     },
     "execution_count": 110,
     "metadata": {},
     "output_type": "execute_result"
    }
   ],
   "source": [
    "(3,6) > (3,1)"
   ]
  },
  {
   "cell_type": "markdown",
   "metadata": {},
   "source": [
    "字典的无序性：\n",
    "For every key in a dictionary, there is a value. Unlike lists, dictionaries do not have an specific order.\n",
    "**That means if you were to define a dictionary and loop over it, each time the output could be different because Python neglects the order.**"
   ]
  },
  {
   "cell_type": "code",
   "execution_count": 132,
   "metadata": {},
   "outputs": [
    {
     "name": "stdout",
     "output_type": "stream",
     "text": [
      "line 1: first line\n",
      "\n",
      "line 2: second line\n",
      "\n",
      "line 3: thrid line\n",
      "\n"
     ]
    }
   ],
   "source": [
    "#python exercises: read file \n",
    "with open('test-file.txt', 'w') as f:\n",
    "    f.write('first line\\nsecond line\\nthrid line\\n')\n",
    "\n",
    "with open('test-file.txt','r') as f:\n",
    "\tlines = f.readlines()\n",
    "\ti = 1\n",
    "\tfor line in lines:\n",
    "\t\t\tprint(f'line {i}: {line}')\n",
    "\t\t\ti += 1\n",
    "#涉及到递进的编号，就要想到i = i + 1, 且是放在最后的部分执行的。\n",
    "#否则就会重复执行。"
   ]
  },
  {
   "cell_type": "code",
   "execution_count": null,
   "metadata": {},
   "outputs": [],
   "source": []
  }
 ],
 "metadata": {
  "kernelspec": {
   "display_name": "Python 3",
   "language": "python",
   "name": "python3"
  },
  "language_info": {
   "codemirror_mode": {
    "name": "ipython",
    "version": 3
   },
   "file_extension": ".py",
   "mimetype": "text/x-python",
   "name": "python",
   "nbconvert_exporter": "python",
   "pygments_lexer": "ipython3",
   "version": "3.7.3"
  },
  "toc-autonumbering": true
 },
 "nbformat": 4,
 "nbformat_minor": 2
}

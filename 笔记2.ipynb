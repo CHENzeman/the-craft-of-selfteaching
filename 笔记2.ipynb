{
 "cells": [
  {
   "cell_type": "markdown",
   "metadata": {},
   "source": [
    "# sort() 与lambda的注意点\n",
    "\n",
    "sort(*, key=None, reverse=False)\n",
    "key指的是排序的对象是什么，如key=str.lower，以小写的全部strings为排序对象，但不改变原本的对象\n",
    "如, list = [(1, 'one'), (2, 'two'), (3, 'three')],\n",
    "list.sort(key=lambda l:l[1])\n",
    "\n",
    "摘自Python built-in types:\n",
    "The key *corresponding to each item in the list is calculated once* and then used for the entire sorting process.  \n",
    "\n",
    "key的作用是对排序对象做出一些要求，对list的每个元素都会操作一遍，那么key=lambda p:p[1]的参数就是list的每个元素，p[1]指的就是每个元素索引为1的那个值，以它们为排序对象。"
   ]
  },
  {
   "cell_type": "code",
   "execution_count": 2,
   "metadata": {},
   "outputs": [
    {
     "data": {
      "text/plain": [
       "[(4, 'four'), (1, 'one'), (3, 'three'), (2, 'two')]"
      ]
     },
     "execution_count": 2,
     "metadata": {},
     "output_type": "execute_result"
    }
   ],
   "source": [
    "pairs = [(1, 'one'), (2, 'two'), (3, 'three'), (4, 'four')]\n",
    "pairs.sort(key=lambda pair:pair[1])   \n",
    "pairs"
   ]
  },
  {
   "cell_type": "code",
   "execution_count": 1,
   "metadata": {},
   "outputs": [
    {
     "data": {
      "text/plain": [
       "['string', 'trying', 'encouragement']"
      ]
     },
     "execution_count": 1,
     "metadata": {},
     "output_type": "execute_result"
    }
   ],
   "source": [
    "pairs = [(2, 'two'), (3, 'three'), (4, 'four')]\n",
    "pairs.clear()\n",
    "pairs = ['encouragement', 'string', 'trying']\n",
    "pairs.sort(key=lambda a:a[5])# 以字符的第5个索引为排序对象，顺序排序，若索引超出字符串的最大索引，\n",
    "pairs                               # 就会报错。"
   ]
  },
  {
   "cell_type": "markdown",
   "metadata": {},
   "source": [
    "lambda里的“ : ” 只要前后的变量是一致的，那么不论是什么都可以的，x:x, a:a, p:p,都是一样的。只要lambda这个函数有参数传递进来，就可以进行运算。"
   ]
  },
  {
   "cell_type": "code",
   "execution_count": null,
   "metadata": {},
   "outputs": [],
   "source": []
  }
 ],
 "metadata": {
  "kernelspec": {
   "display_name": "Python 3",
   "language": "python",
   "name": "python3"
  },
  "language_info": {
   "codemirror_mode": {
    "name": "ipython",
    "version": 3
   },
   "file_extension": ".py",
   "mimetype": "text/x-python",
   "name": "python",
   "nbconvert_exporter": "python",
   "pygments_lexer": "ipython3",
   "version": "3.7.1"
  }
 },
 "nbformat": 4,
 "nbformat_minor": 2
}

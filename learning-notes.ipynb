{
 "cells": [
  {
   "cell_type": "markdown",
   "metadata": {},
   "source": [
    "# 列表list——注意点"
   ]
  },
  {
   "cell_type": "code",
   "execution_count": 3,
   "metadata": {},
   "outputs": [
    {
     "name": "stdout",
     "output_type": "stream",
     "text": [
      "1\n",
      "[58, 43, 65, 74, 65]\n",
      "[65, 74, 65, 43, 58]\n",
      "None\n",
      "\n",
      "None\n",
      "None\n",
      "None\n",
      "10\n",
      "None\n",
      "\n",
      "2\n",
      "[58, 43, 65, 74, 65]\n",
      "[58, 43, 74, 65]\n",
      "65\n",
      "\n",
      "3\n",
      "[58, 43, 'happy', 74, 65]\n",
      "[58, 43, 74, 65]\n",
      "None\n",
      "\n",
      "4\n",
      "[58, 43, 74, 65]\n",
      "[58, 43, 65]\n"
     ]
    }
   ],
   "source": [
    "#区别 del(), list.pop(), list.remove();\n",
    "#再次厘清：返回值和输出值的差异。\n",
    "\n",
    "import random\n",
    "n = 5\n",
    "\n",
    "a_list = [random.randrange(30,80) for i in range(n)]\n",
    "\n",
    "print(1)\n",
    "print(a_list)\n",
    "a_list.reverse()\n",
    "print(a_list)\n",
    "print(a_list.reverse())\n",
    "\n",
    "print()\n",
    "def f():\n",
    "    pass\n",
    "print(f())\n",
    "print(print(f())) #print(）的返回值是none，返回值和输出值是不一样的。list.reverse(), list.remove()的返回值也是none。\n",
    "\n",
    "#再来个例子\n",
    "print(print(10))  #print被调用了两次，第一次输出了10，第二次输出了none，none是print(10)的返回值。\n",
    "\n",
    "print()\n",
    "print(2)\n",
    "print(a_list)\n",
    "x = a_list.pop(2)\n",
    "print(a_list)\n",
    "print(x)           #pop()返回被删除的值\n",
    "\n",
    "print()\n",
    "print(3)\n",
    "a_list.insert(2,'happy')\n",
    "print(a_list)\n",
    "z = a_list.remove('happy')\n",
    "print(a_list)\n",
    "print(z)           #remove()返回的是none\n",
    "\n",
    "print()\n",
    "print(4)\n",
    "print(a_list)\n",
    "del(a_list[2])\n",
    "print(a_list)   #del 是一个语句，不能写成print(del(a_list[2])),会报错。"
   ]
  },
  {
   "cell_type": "markdown",
   "metadata": {},
   "source": [
    "# 元组（tuple)"
   ]
  },
  {
   "cell_type": "markdown",
   "metadata": {},
   "source": [
    "元组一定有逗号`,` 最好一直用圆括号。\n",
    "\n",
    "元组是不可变有序序列，”不可变“的意思是：原有的元素不可变，可以追加新元素 —— a += 1,2,3"
   ]
  },
  {
   "cell_type": "markdown",
   "metadata": {},
   "source": [
    "\n",
    "# 集合（set)"
   ]
  },
  {
   "cell_type": "markdown",
   "metadata": {},
   "source": [
    "集合是无序序列，不包含重合元素。分为可变的和不可变的。"
   ]
  },
  {
   "cell_type": "markdown",
   "metadata": {},
   "source": [
    "\n",
    "创建空集合时，一定要用*set()*创建集合。如果用a = {},创建的是字典。\n"
   ]
  },
  {
   "cell_type": "markdown",
   "metadata": {},
   "source": [
    "集合之间的操作：\n",
    "> * 并集：set.union(*others)—— `|`\n",
    "> * 交集：set.intersection(*others)—— `&`\n",
    "> * 差集：set.difference(*others)—— `-`\n",
    "> * 对称差集：set.symmetric_difference(other)—— `^`\n",
    "\n",
    "**注意：**对称差集的对象只能是*一个集合*，其他的操作可以是多个集合。\n"
   ]
  },
  {
   "cell_type": "markdown",
   "metadata": {},
   "source": [
    "# 字典（Dictionary)"
   ]
  },
  {
   "cell_type": "code",
   "execution_count": 6,
   "metadata": {},
   "outputs": [],
   "source": [
    "a = {'ann':2131}  # a = {key:value,....}"
   ]
  },
  {
   "cell_type": "markdown",
   "metadata": {},
   "source": [
    "字典是无序的可变序列"
   ]
  },
  {
   "cell_type": "markdown",
   "metadata": {},
   "source": [
    "# Files"
   ]
  },
  {
   "cell_type": "markdown",
   "metadata": {},
   "source": [
    "## file.writelines()\n",
    "若输入的列表的各个元素是没有分行符号\\n的，那么在被写入文件后，元素是连在一起的。所以，写入的元素要加入\\n。"
   ]
  },
  {
   "cell_type": "markdown",
   "metadata": {},
   "source": [
    "## strip() \n",
    "只用于strings, 不用于其他数据类型的。file.readlines()是不能用的，但line in file.readlines()，line是可以用的。对于有分行的文件，就可以这么操作。"
   ]
  },
  {
   "cell_type": "code",
   "execution_count": null,
   "metadata": {},
   "outputs": [],
   "source": []
  }
 ],
 "metadata": {
  "kernelspec": {
   "display_name": "Python 3",
   "language": "python",
   "name": "python3"
  },
  "language_info": {
   "codemirror_mode": {
    "name": "ipython",
    "version": 3
   },
   "file_extension": ".py",
   "mimetype": "text/x-python",
   "name": "python",
   "nbconvert_exporter": "python",
   "pygments_lexer": "ipython3",
   "version": "3.7.1"
  },
  "toc-autonumbering": true,
  "toc-showtags": false
 },
 "nbformat": 4,
 "nbformat_minor": 2
}
